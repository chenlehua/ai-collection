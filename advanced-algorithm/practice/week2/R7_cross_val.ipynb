{
 "cells": [
  {
   "cell_type": "code",
   "execution_count": 1,
   "id": "a003cc71-256d-4c1f-b9ab-f6a55e781ef0",
   "metadata": {},
   "outputs": [],
   "source": [
    "from sklearn.datasets import load_iris\n",
    "from sklearn.model_selection import cross_val_predict, KFold\n",
    "from sklearn.metrics import accuracy_score, confusion_matrix, classification_report"
   ]
  },
  {
   "cell_type": "code",
   "execution_count": 2,
   "id": "817ca3fc-3e09-49ef-a2be-fa16a9da5df1",
   "metadata": {},
   "outputs": [],
   "source": [
    "from xgboost import XGBClassifier\n",
    "from sklearn.ensemble import RandomForestClassifier\n",
    "from sklearn.tree import DecisionTreeClassifier\n",
    "from sklearn.linear_model import LogisticRegression"
   ]
  },
  {
   "cell_type": "code",
   "execution_count": 3,
   "id": "dd55a9eb-d55f-4985-a1c4-0e193e104a0e",
   "metadata": {},
   "outputs": [],
   "source": [
    "import numpy as np\n",
    "import pandas as pd\n",
    "import matplotlib.pyplot as plt\n",
    "import seaborn as sns"
   ]
  },
  {
   "cell_type": "code",
   "execution_count": 4,
   "id": "e710307e-e8c5-42ca-8d02-8097ec6a2027",
   "metadata": {},
   "outputs": [],
   "source": [
    "# 1. 加载数据集\n",
    "data = load_iris()\n",
    "X = data.data  # 特征数据\n",
    "y = data.target # 目标标签\n",
    "feature_names = data.feature_names\n",
    "target_names = data.target_names"
   ]
  },
  {
   "cell_type": "code",
   "execution_count": 5,
   "id": "bed391da-8f1b-4f10-b6b9-5008b1fee96d",
   "metadata": {},
   "outputs": [
    {
     "name": "stdout",
     "output_type": "stream",
     "text": [
      "数据集加载完成。\n",
      "特征数量: 4, 样本数量: 150\n",
      "类别名称: ['setosa' 'versicolor' 'virginica']\n",
      "--------------------------------------------------\n"
     ]
    }
   ],
   "source": [
    "print(\"数据集加载完成。\")\n",
    "print(f\"特征数量: {X.shape[1]}, 样本数量: {X.shape[0]}\")\n",
    "print(f\"类别名称: {target_names}\")\n",
    "print(\"-\" * 50)"
   ]
  },
  {
   "cell_type": "code",
   "execution_count": 6,
   "id": "c53a08e9-d17c-417e-a44d-460cb0aaa21f",
   "metadata": {},
   "outputs": [],
   "source": [
    "# 2. 定义要对比的模型\n",
    "models = {\n",
    "    \"Logistic Regression\": LogisticRegression(max_iter=200, random_state=42),\n",
    "    \"Decision Tree\": DecisionTreeClassifier(random_state=42),\n",
    "    \"Random Forest\": RandomForestClassifier(random_state=42),\n",
    "    \"XGBoost\": XGBClassifier(objective='multi:softmax', num_class=len(target_names),\n",
    "                             eval_metric='mlogloss', use_label_encoder=False, random_state=42)\n",
    "}"
   ]
  },
  {
   "cell_type": "code",
   "execution_count": 7,
   "id": "7ccc0caa-26f2-471a-80cb-9a4fb9e9852b",
   "metadata": {},
   "outputs": [],
   "source": [
    "# 3. 设置交叉验证策略\n",
    "# KFold 将数据集分成 k 个连续的折叠，每个折叠用作测试集一次。\n",
    "# shuffle=True 会在分割前打乱数据。\n",
    "# random_state=42 确保每次运行时的分割是可复现的。\n",
    "cv = KFold(n_splits=5, shuffle=True, random_state=42)"
   ]
  },
  {
   "cell_type": "code",
   "execution_count": 8,
   "id": "0db35298-103e-4648-8f92-91de3d38dc3d",
   "metadata": {},
   "outputs": [],
   "source": [
    "# 用于存储每个模型的精度\n",
    "accuracy_scores = {}\n",
    "classification_reports = {}\n",
    "confusion_matrices = {}"
   ]
  },
  {
   "cell_type": "code",
   "execution_count": 9,
   "id": "8652a4b3-7a6b-4f46-9502-426e1169ea86",
   "metadata": {},
   "outputs": [
    {
     "name": "stdout",
     "output_type": "stream",
     "text": [
      "开始进行模型交叉验证评估...\n",
      "--------------------------------------------------\n"
     ]
    }
   ],
   "source": [
    "print(\"开始进行模型交叉验证评估...\")\n",
    "print(\"-\" * 50)"
   ]
  },
  {
   "cell_type": "code",
   "execution_count": 10,
   "id": "0b0f6452-89c6-447c-91ac-363076365c5f",
   "metadata": {},
   "outputs": [
    {
     "name": "stdout",
     "output_type": "stream",
     "text": [
      "正在评估模型: Logistic Regression...\n",
      "  Logistic Regression 精度: 0.9733\n",
      "--------------------------------------------------\n",
      "正在评估模型: Decision Tree...\n",
      "  Decision Tree 精度: 0.9533\n",
      "--------------------------------------------------\n",
      "正在评估模型: Random Forest...\n",
      "  Random Forest 精度: 0.9600\n",
      "--------------------------------------------------\n",
      "正在评估模型: XGBoost...\n"
     ]
    },
    {
     "name": "stderr",
     "output_type": "stream",
     "text": [
      "/opt/anaconda3/envs/python313/lib/python3.13/site-packages/xgboost/training.py:183: UserWarning: [21:20:46] WARNING: /var/folders/k1/30mswbxs7r1g6zwn8y4fyt500000gp/T/abs_abwcuua5oq/croot/xgboost-split_1749630928197/work/src/learner.cc:738: \n",
      "Parameters: { \"use_label_encoder\" } are not used.\n",
      "\n",
      "  bst.update(dtrain, iteration=i, fobj=obj)\n",
      "/opt/anaconda3/envs/python313/lib/python3.13/site-packages/xgboost/training.py:183: UserWarning: [21:20:46] WARNING: /var/folders/k1/30mswbxs7r1g6zwn8y4fyt500000gp/T/abs_abwcuua5oq/croot/xgboost-split_1749630928197/work/src/learner.cc:738: \n",
      "Parameters: { \"use_label_encoder\" } are not used.\n",
      "\n",
      "  bst.update(dtrain, iteration=i, fobj=obj)\n",
      "/opt/anaconda3/envs/python313/lib/python3.13/site-packages/xgboost/training.py:183: UserWarning: [21:20:46] WARNING: /var/folders/k1/30mswbxs7r1g6zwn8y4fyt500000gp/T/abs_abwcuua5oq/croot/xgboost-split_1749630928197/work/src/learner.cc:738: \n",
      "Parameters: { \"use_label_encoder\" } are not used.\n",
      "\n",
      "  bst.update(dtrain, iteration=i, fobj=obj)\n",
      "/opt/anaconda3/envs/python313/lib/python3.13/site-packages/xgboost/training.py:183: UserWarning: [21:20:46] WARNING: /var/folders/k1/30mswbxs7r1g6zwn8y4fyt500000gp/T/abs_abwcuua5oq/croot/xgboost-split_1749630928197/work/src/learner.cc:738: \n",
      "Parameters: { \"use_label_encoder\" } are not used.\n",
      "\n",
      "  bst.update(dtrain, iteration=i, fobj=obj)\n"
     ]
    },
    {
     "name": "stdout",
     "output_type": "stream",
     "text": [
      "  XGBoost 精度: 0.9467\n",
      "--------------------------------------------------\n"
     ]
    },
    {
     "name": "stderr",
     "output_type": "stream",
     "text": [
      "/opt/anaconda3/envs/python313/lib/python3.13/site-packages/xgboost/training.py:183: UserWarning: [21:20:47] WARNING: /var/folders/k1/30mswbxs7r1g6zwn8y4fyt500000gp/T/abs_abwcuua5oq/croot/xgboost-split_1749630928197/work/src/learner.cc:738: \n",
      "Parameters: { \"use_label_encoder\" } are not used.\n",
      "\n",
      "  bst.update(dtrain, iteration=i, fobj=obj)\n"
     ]
    }
   ],
   "source": [
    "# 4. 遍历模型并进行交叉验证预测\n",
    "for name, model in models.items():\n",
    "    print(f\"正在评估模型: {name}...\")\n",
    "\n",
    "    # 使用 cross_val_predict 进行交叉验证预测\n",
    "    # 这会为数据集中每个样本生成一个在交叉验证中被预测时的预测结果\n",
    "    y_pred = cross_val_predict(model, X, y, cv=cv, n_jobs=-1) # n_jobs=-1 使用所有可用CPU核心并行计算\n",
    "\n",
    "    # 计算精度\n",
    "    accuracy = accuracy_score(y, y_pred)\n",
    "    accuracy_scores[name] = accuracy\n",
    "\n",
    "    # 生成分类报告（包含精度、召回率、F1分数等）\n",
    "    report = classification_report(y, y_pred, target_names=target_names, output_dict=True)\n",
    "    classification_reports[name] = report\n",
    "\n",
    "    # 生成混淆矩阵\n",
    "    cm = confusion_matrix(y, y_pred)\n",
    "    confusion_matrices[name] = cm\n",
    "\n",
    "    print(f\"  {name} 精度: {accuracy:.4f}\")\n",
    "    print(\"-\" * 50)"
   ]
  },
  {
   "cell_type": "code",
   "execution_count": 11,
   "id": "7bb0ecb4-cfd8-4bb3-a716-47f8e292cda5",
   "metadata": {},
   "outputs": [
    {
     "name": "stdout",
     "output_type": "stream",
     "text": [
      "\n",
      "--- 交叉验证结果汇总 ---\n",
      "\n",
      "模型精度:\n",
      "- Logistic Regression: 0.9733\n",
      "- Decision Tree: 0.9533\n",
      "- Random Forest: 0.9600\n",
      "- XGBoost: 0.9467\n",
      "\n",
      "--- 详细分类报告 (Random Forest 示例) ---\n",
      "              precision  recall  f1-score  support\n",
      "setosa             1.00    1.00      1.00    50.00\n",
      "versicolor         0.94    0.94      0.94    50.00\n",
      "virginica          0.94    0.94      0.94    50.00\n",
      "accuracy           0.96    0.96      0.96     0.96\n",
      "macro avg          0.96    0.96      0.96   150.00\n",
      "weighted avg       0.96    0.96      0.96   150.00\n"
     ]
    }
   ],
   "source": [
    "# 5. 打印并可视化结果\n",
    "print(\"\\n--- 交叉验证结果汇总 ---\")\n",
    "\n",
    "# 打印精度\n",
    "print(\"\\n模型精度:\")\n",
    "for name, acc in accuracy_scores.items():\n",
    "    print(f\"- {name}: {acc:.4f}\")\n",
    "\n",
    "# 打印详细分类报告（选择一个模型作为示例或遍历打印所有）\n",
    "print(\"\\n--- 详细分类报告 (Random Forest 示例) ---\")\n",
    "print(pd.DataFrame(classification_reports[\"Random Forest\"]).transpose()) # 转置方便查看"
   ]
  },
  {
   "cell_type": "code",
   "execution_count": null,
   "id": "616274e0-0bfa-4267-ba99-cd5ebdf7db21",
   "metadata": {},
   "outputs": [],
   "source": []
  }
 ],
 "metadata": {
  "kernelspec": {
   "display_name": "Python 3 (ipykernel)",
   "language": "python",
   "name": "python3"
  },
  "language_info": {
   "codemirror_mode": {
    "name": "ipython",
    "version": 3
   },
   "file_extension": ".py",
   "mimetype": "text/x-python",
   "name": "python",
   "nbconvert_exporter": "python",
   "pygments_lexer": "ipython3",
   "version": "3.13.2"
  }
 },
 "nbformat": 4,
 "nbformat_minor": 5
}
