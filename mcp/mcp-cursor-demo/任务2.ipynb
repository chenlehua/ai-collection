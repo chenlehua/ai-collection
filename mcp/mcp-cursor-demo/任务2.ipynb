{
 "cells": [
  {
   "cell_type": "markdown",
   "metadata": {},
   "source": [
    "## 任务2：通过MCP协议实现AI Agent的动态工具调用与上下文同步，提升复杂任务效率"
   ]
  },
  {
   "cell_type": "markdown",
   "metadata": {},
   "source": [
    "\n",
    "## 1. 增加网络搜索功能\n",
    "\n",
    "本节将指导你如何实践 Model Context Protocol (MCP) 的能力，包括访问本地文件系统和进行网络搜索。\n",
    "\n",
    "### 1.1 访问本地文件系统\n",
    "\n",
    "你可以通过以下链接了解如何配置和使用 MCP Server 来安全地访问你计算机上的文件、文件夹等本地数据：\n",
    "\n",
    "[MCP 文件系统服务器文档](https://www.modelscope.cn/mcp/servers/@modelcontextprotocol/filesystem)\n",
    "\n",
    "### 1.2 搜索\n",
    "\n",
    "要实现搜索功能，你可以集成一个预构建的 MCP Server。点击以下链接查看详细配置和使用方法：\n",
    "\n",
    "[MCP 搜索服务器文档](https://www.modelscope.cn/mcp/servers/ZhipuAI/Zhipu-Web-Search)\n",
    "\n",
    "## 2. 修改配置文件\n"
   ]
  },
  {
   "cell_type": "markdown",
   "metadata": {},
   "source": [
    "```json\n",
    "{\n",
    "  \"mcpServers\": {\n",
    "    \"filesystem\": {\n",
    "      \"command\": \"npx\",\n",
    "      \"args\": [\n",
    "        \"-y\",\n",
    "        \"@modelcontextprotocol/server-filesystem\",\n",
    "        \"/Users/wilson/Desktop\"\n",
    "      ]\n",
    "    },\n",
    "    \"zhipu-web-search-sse\": {\n",
    "      \"url\": \"https://open.bigmodel.cn/api/mcp/web_search/sse?Authorization= YOUR KEY\"\n",
    "    }\n",
    "  }\n",
    "}\n",
    "```\n"
   ]
  },
  {
   "cell_type": "markdown",
   "metadata": {},
   "source": [
    "## 3. 综合示例：搜索并保存新闻\n",
    "\n",
    "要演示 MCP 的强大功能，我们来看一个结合搜索和文件操作的综合例子：**搜索最近 5 条与 AI 相关的新闻，并将它们保存到桌面上的 `a.txt` 文件中。**\n",
    "\n",
    "这个操作通常会涉及以下几个步骤（具体实现会依赖于你使用的 MCP Hosts 和其交互方式）：\n",
    "\n",
    "1.  **使用 MCP Hosts 发送搜索请求：** 通过 `MCP Hosts` (如 Claude Desktop、IDE 或其他 AI 工具) 向配置好的 **必应搜索 MCP Server** 发送一个查询，请求“最近和 AI 相关的 5 个新闻”。\n",
    "2.  **获取搜索结果：** 必应搜索 MCP Server 处理请求，并返回相应的新闻数据。\n",
    "3.  **使用 MCP Hosts 处理并写入文件：** MCP Hosts 接收到新闻数据后，将其格式化，并通过 **文件系统 MCP Server** 的能力，将这些内容写入到你桌面上的 `a.txt` 文件中。\n",
    "\n",
    "这个例子展示了 MCP 如何通过串联不同的能力（搜索和文件系统访问）来完成更复杂的任务。"
   ]
  },
  {
   "cell_type": "markdown",
   "metadata": {},
   "source": [
    "## 小结\n",
    "\n",
    "本任务深入探讨了如何利用 MCP 协议 来增强 AI Agent 的能力，使其能够执行更复杂的任务。\n",
    "\n",
    "我们学习了如何通过配置 mcp.json 文件来集成并启动不同的 MCP 服务器，包括必应搜索服务和本地文件系统访问服务。\n",
    "\n",
    "通过一个将网络搜索结果保存到本地文件的综合案例，我们直观地展示了 AI Agent 如何动态调用外部工具，\n",
    "\n",
    "并在多步骤操作中同步上下文信息，从而极大地提升了处理复杂任务的效率和智能化水平，为构建更强大的 AI 应用奠定了基础。"
   ]
  }
 ],
 "metadata": {
  "kernelspec": {
   "display_name": "rag50",
   "language": "python",
   "name": "python3"
  },
  "language_info": {
   "name": "python",
   "version": "3.12.11"
  }
 },
 "nbformat": 4,
 "nbformat_minor": 2
}
