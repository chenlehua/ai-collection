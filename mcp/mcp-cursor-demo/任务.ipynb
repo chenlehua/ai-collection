{
 "cells": [
  {
   "cell_type": "markdown",
   "metadata": {},
   "source": [
    "## 任务5 ：构建基于MCP协议的AI爬虫系统"
   ]
  },
  {
   "cell_type": "markdown",
   "metadata": {},
   "source": [
    "借助 **fetch** 实现爬虫\n",
    "\n",
    "https://www.modelscope.cn/mcp/servers/@modelcontextprotocol/fetch\n"
   ]
  },
  {
   "cell_type": "markdown",
   "metadata": {},
   "source": [
    "当使用 uv 时不需要特定的安装步骤。我们将使用 uvx 直接运行 mcp-server-fetch。\n",
    "\n",
    "或者，您可以通过 pip 安装 mcp-server-fetch\n",
    "\n",
    "```bash\n",
    "pip install mcp-server-fetch\n",
    "```"
   ]
  },
  {
   "cell_type": "markdown",
   "metadata": {},
   "source": [
    "使用 uvx\n",
    "\n",
    "```json\n",
    "\"mcpServers\": {\n",
    "  \"fetch\": {\n",
    "    \"command\": \"uvx\",\n",
    "    \"args\": [\"mcp-server-fetch\"]\n",
    "  }\n",
    "}\n",
    "```\n",
    "\n",
    "使用 pip 安装\n",
    "\n",
    "```json\n",
    "\"mcpServers\": {\n",
    "  \"fetch\": {\n",
    "    \"command\": \"python\",\n",
    "    \"args\": [\"-m\", \"mcp_server_fetch\"]\n",
    "  }\n",
    "}\n",
    "```"
   ]
  },
  {
   "cell_type": "markdown",
   "metadata": {},
   "source": [
    "抓取特定 URL 的内容：\n",
    "\n",
    "1. 使用 fetch 工具，帮我抓取 AI 新闻\n",
    "\n",
    "2. 把抓取到的内容保存到桌面 ai_news.txt\n",
    "\n",
    "3. 读取文桌面文件 ai_news.txt 的内容"
   ]
  }
 ],
 "metadata": {
  "language_info": {
   "name": "python"
  }
 },
 "nbformat": 4,
 "nbformat_minor": 2
}
