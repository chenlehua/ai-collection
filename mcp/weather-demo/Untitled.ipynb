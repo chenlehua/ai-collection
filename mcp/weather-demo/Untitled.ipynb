{
 "cells": [
  {
   "cell_type": "markdown",
   "id": "c6ac168d-f527-4678-acd8-8b26b0d7c813",
   "metadata": {},
   "source": [
    "# 和风天气API注册\n",
    "- 地址：https://dev.qweather.com/"
   ]
  },
  {
   "cell_type": "markdown",
   "id": "038bcd29-7b24-4921-9fbd-fe485158a045",
   "metadata": {},
   "source": [
    "# 使用MCP Inspector调试服务器\n",
    "mcp dev server/weather_server.py"
   ]
  },
  {
   "cell_type": "code",
   "execution_count": null,
   "id": "fd77b540-720b-4cdc-aead-2ccd960ba567",
   "metadata": {},
   "outputs": [],
   "source": [
    "with httpx.AsyncClient() as client:\n",
    "    client.get(\"mv4bj9u2kx.re.qweatherapi.com\", params=params, timeout=30.0)"
   ]
  },
  {
   "cell_type": "code",
   "execution_count": null,
   "id": "5f16fe0a-e1f5-4a84-9fdb-f35ebf5d9cbd",
   "metadata": {},
   "outputs": [],
   "source": []
  }
 ],
 "metadata": {
  "kernelspec": {
   "display_name": "Python 3 (ipykernel)",
   "language": "python",
   "name": "python3"
  },
  "language_info": {
   "codemirror_mode": {
    "name": "ipython",
    "version": 3
   },
   "file_extension": ".py",
   "mimetype": "text/x-python",
   "name": "python",
   "nbconvert_exporter": "python",
   "pygments_lexer": "ipython3",
   "version": "3.13.2"
  }
 },
 "nbformat": 4,
 "nbformat_minor": 5
}
