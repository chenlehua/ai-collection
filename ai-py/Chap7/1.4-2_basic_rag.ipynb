{
 "cells": [
  {
   "cell_type": "markdown",
   "metadata": {},
   "source": [
    "1. 安装 LlamaIndex 依赖包"
   ]
  },
  {
   "cell_type": "code",
   "execution_count": 6,
   "metadata": {},
   "outputs": [
    {
     "name": "stdout",
     "output_type": "stream",
     "text": [
      "Looking in indexes: https://pypi.mirrors.ustc.edu.cn/simple\n",
      "Requirement already satisfied: gradio==4.32.0 in d:\\software\\anaconda3-202402\\envs\\deepseek\\lib\\site-packages (from -r ./requirements.txt (line 1)) (4.32.0)\n",
      "Requirement already satisfied: faiss-cpu==1.8.0.post1 in d:\\software\\anaconda3-202402\\envs\\deepseek\\lib\\site-packages (from -r ./requirements.txt (line 2)) (1.8.0.post1)\n",
      "Requirement already satisfied: dashscope==1.20.12 in d:\\software\\anaconda3-202402\\envs\\deepseek\\lib\\site-packages (from -r ./requirements.txt (line 3)) (1.20.12)\n",
      "Requirement already satisfied: openai==1.40.8 in d:\\software\\anaconda3-202402\\envs\\deepseek\\lib\\site-packages (from -r ./requirements.txt (line 4)) (1.40.8)\n",
      "Requirement already satisfied: llama-index-vector-stores-faiss==0.1.2 in d:\\software\\anaconda3-202402\\envs\\deepseek\\lib\\site-packages (from -r ./requirements.txt (line 5)) (0.1.2)\n",
      "Requirement already satisfied: llama-index-embeddings-dashscope==0.1.4 in d:\\software\\anaconda3-202402\\envs\\deepseek\\lib\\site-packages (from -r ./requirements.txt (line 6)) (0.1.4)\n",
      "Requirement already satisfied: llama-index-readers-file==0.1.33 in d:\\software\\anaconda3-202402\\envs\\deepseek\\lib\\site-packages (from -r ./requirements.txt (line 7)) (0.1.33)\n",
      "Requirement already satisfied: docx2txt==0.8 in d:\\software\\anaconda3-202402\\envs\\deepseek\\lib\\site-packages (from -r ./requirements.txt (line 8)) (0.8)\n",
      "Requirement already satisfied: openpyxl==3.1.5 in d:\\software\\anaconda3-202402\\envs\\deepseek\\lib\\site-packages (from -r ./requirements.txt (line 9)) (3.1.5)\n",
      "Requirement already satisfied: llama-index-core==0.10.67 in d:\\software\\anaconda3-202402\\envs\\deepseek\\lib\\site-packages (from -r ./requirements.txt (line 10)) (0.10.67)\n",
      "Requirement already satisfied: llama-index-llms-dashscope==0.1.2 in d:\\software\\anaconda3-202402\\envs\\deepseek\\lib\\site-packages (from -r ./requirements.txt (line 11)) (0.1.2)\n",
      "Requirement already satisfied: llama-index-readers-dashscope==0.1.2 in d:\\software\\anaconda3-202402\\envs\\deepseek\\lib\\site-packages (from -r ./requirements.txt (line 12)) (0.1.2)\n",
      "Requirement already satisfied: uvicorn==0.30.6 in d:\\software\\anaconda3-202402\\envs\\deepseek\\lib\\site-packages (from -r ./requirements.txt (line 13)) (0.30.6)\n",
      "Requirement already satisfied: fastapi==0.114.1 in d:\\software\\anaconda3-202402\\envs\\deepseek\\lib\\site-packages (from -r ./requirements.txt (line 14)) (0.114.1)\n",
      "Requirement already satisfied: llama-index-postprocessor-dashscope-rerank-custom==0.1.0 in d:\\software\\anaconda3-202402\\envs\\deepseek\\lib\\site-packages (from -r ./requirements.txt (line 15)) (0.1.0)\n",
      "Requirement already satisfied: simplejson==3.19.3 in d:\\software\\anaconda3-202402\\envs\\deepseek\\lib\\site-packages (from -r ./requirements.txt (line 16)) (3.19.3)\n",
      "Requirement already satisfied: matplotlib==3.9.2 in d:\\software\\anaconda3-202402\\envs\\deepseek\\lib\\site-packages (from -r ./requirements.txt (line 17)) (3.9.2)\n",
      "Requirement already satisfied: ragas==0.1.9 in d:\\software\\anaconda3-202402\\envs\\deepseek\\lib\\site-packages (from -r ./requirements.txt (line 18)) (0.1.9)\n",
      "Requirement already satisfied: langchain_community==0.2.17 in d:\\software\\anaconda3-202402\\envs\\deepseek\\lib\\site-packages (from -r ./requirements.txt (line 19)) (0.2.17)\n",
      "Requirement already satisfied: alibabacloud_bailian20231229==1.8.2 in d:\\software\\anaconda3-202402\\envs\\deepseek\\lib\\site-packages (from -r ./requirements.txt (line 20)) (1.8.2)\n",
      "Requirement already satisfied: pandas==2.0.3 in d:\\software\\anaconda3-202402\\envs\\deepseek\\lib\\site-packages (from -r ./requirements.txt (line 21)) (2.0.3)\n",
      "Requirement already satisfied: alibabacloud_green20220302==2.2.11 in d:\\software\\anaconda3-202402\\envs\\deepseek\\lib\\site-packages (from -r ./requirements.txt (line 22)) (2.2.11)\n",
      "Requirement already satisfied: oss2==2.19.0 in d:\\software\\anaconda3-202402\\envs\\deepseek\\lib\\site-packages (from -r ./requirements.txt (line 23)) (2.19.0)\n",
      "Requirement already satisfied: aiofiles<24.0,>=22.0 in d:\\software\\anaconda3-202402\\envs\\deepseek\\lib\\site-packages (from gradio==4.32.0->-r ./requirements.txt (line 1)) (23.2.1)\n",
      "Requirement already satisfied: altair<6.0,>=4.2.0 in d:\\software\\anaconda3-202402\\envs\\deepseek\\lib\\site-packages (from gradio==4.32.0->-r ./requirements.txt (line 1)) (5.4.1)\n",
      "Requirement already satisfied: ffmpy in d:\\software\\anaconda3-202402\\envs\\deepseek\\lib\\site-packages (from gradio==4.32.0->-r ./requirements.txt (line 1)) (0.4.0)\n",
      "Requirement already satisfied: gradio-client==0.17.0 in d:\\software\\anaconda3-202402\\envs\\deepseek\\lib\\site-packages (from gradio==4.32.0->-r ./requirements.txt (line 1)) (0.17.0)\n",
      "Requirement already satisfied: httpx>=0.24.1 in d:\\software\\anaconda3-202402\\envs\\deepseek\\lib\\site-packages (from gradio==4.32.0->-r ./requirements.txt (line 1)) (0.27.2)\n",
      "Requirement already satisfied: huggingface-hub>=0.19.3 in d:\\software\\anaconda3-202402\\envs\\deepseek\\lib\\site-packages (from gradio==4.32.0->-r ./requirements.txt (line 1)) (0.26.1)\n",
      "Requirement already satisfied: importlib-resources<7.0,>=1.3 in d:\\software\\anaconda3-202402\\envs\\deepseek\\lib\\site-packages (from gradio==4.32.0->-r ./requirements.txt (line 1)) (6.4.5)\n",
      "Requirement already satisfied: jinja2<4.0 in d:\\software\\anaconda3-202402\\envs\\deepseek\\lib\\site-packages (from gradio==4.32.0->-r ./requirements.txt (line 1)) (3.1.4)\n",
      "Requirement already satisfied: markupsafe~=2.0 in d:\\software\\anaconda3-202402\\envs\\deepseek\\lib\\site-packages (from gradio==4.32.0->-r ./requirements.txt (line 1)) (2.1.5)\n",
      "Requirement already satisfied: numpy~=1.0 in d:\\software\\anaconda3-202402\\envs\\deepseek\\lib\\site-packages (from gradio==4.32.0->-r ./requirements.txt (line 1)) (1.26.4)\n",
      "Requirement already satisfied: orjson~=3.0 in d:\\software\\anaconda3-202402\\envs\\deepseek\\lib\\site-packages (from gradio==4.32.0->-r ./requirements.txt (line 1)) (3.10.9)\n",
      "Requirement already satisfied: packaging in d:\\software\\anaconda3-202402\\envs\\deepseek\\lib\\site-packages (from gradio==4.32.0->-r ./requirements.txt (line 1)) (24.1)\n",
      "Requirement already satisfied: pillow<11.0,>=8.0 in d:\\software\\anaconda3-202402\\envs\\deepseek\\lib\\site-packages (from gradio==4.32.0->-r ./requirements.txt (line 1)) (10.4.0)\n",
      "Requirement already satisfied: pydantic>=2.0 in d:\\software\\anaconda3-202402\\envs\\deepseek\\lib\\site-packages (from gradio==4.32.0->-r ./requirements.txt (line 1)) (2.9.2)\n",
      "Requirement already satisfied: pydub in d:\\software\\anaconda3-202402\\envs\\deepseek\\lib\\site-packages (from gradio==4.32.0->-r ./requirements.txt (line 1)) (0.25.1)\n",
      "Requirement already satisfied: python-multipart>=0.0.9 in d:\\software\\anaconda3-202402\\envs\\deepseek\\lib\\site-packages (from gradio==4.32.0->-r ./requirements.txt (line 1)) (0.0.12)\n",
      "Requirement already satisfied: pyyaml<7.0,>=5.0 in d:\\software\\anaconda3-202402\\envs\\deepseek\\lib\\site-packages (from gradio==4.32.0->-r ./requirements.txt (line 1)) (6.0.2)\n",
      "Requirement already satisfied: ruff>=0.2.2 in d:\\software\\anaconda3-202402\\envs\\deepseek\\lib\\site-packages (from gradio==4.32.0->-r ./requirements.txt (line 1)) (0.7.0)\n",
      "Requirement already satisfied: semantic-version~=2.0 in d:\\software\\anaconda3-202402\\envs\\deepseek\\lib\\site-packages (from gradio==4.32.0->-r ./requirements.txt (line 1)) (2.10.0)\n",
      "Requirement already satisfied: tomlkit==0.12.0 in d:\\software\\anaconda3-202402\\envs\\deepseek\\lib\\site-packages (from gradio==4.32.0->-r ./requirements.txt (line 1)) (0.12.0)\n",
      "Requirement already satisfied: typer<1.0,>=0.12 in d:\\software\\anaconda3-202402\\envs\\deepseek\\lib\\site-packages (from gradio==4.32.0->-r ./requirements.txt (line 1)) (0.12.5)\n",
      "Requirement already satisfied: typing-extensions~=4.0 in d:\\software\\anaconda3-202402\\envs\\deepseek\\lib\\site-packages (from gradio==4.32.0->-r ./requirements.txt (line 1)) (4.12.2)\n",
      "Requirement already satisfied: urllib3~=2.0 in d:\\software\\anaconda3-202402\\envs\\deepseek\\lib\\site-packages (from gradio==4.32.0->-r ./requirements.txt (line 1)) (2.2.3)\n",
      "Requirement already satisfied: aiohttp in d:\\software\\anaconda3-202402\\envs\\deepseek\\lib\\site-packages (from dashscope==1.20.12->-r ./requirements.txt (line 3)) (3.10.10)\n",
      "Requirement already satisfied: requests in d:\\software\\anaconda3-202402\\envs\\deepseek\\lib\\site-packages (from dashscope==1.20.12->-r ./requirements.txt (line 3)) (2.32.3)\n",
      "Requirement already satisfied: websocket-client in d:\\software\\anaconda3-202402\\envs\\deepseek\\lib\\site-packages (from dashscope==1.20.12->-r ./requirements.txt (line 3)) (1.8.0)\n",
      "Requirement already satisfied: anyio<5,>=3.5.0 in d:\\software\\anaconda3-202402\\envs\\deepseek\\lib\\site-packages (from openai==1.40.8->-r ./requirements.txt (line 4)) (4.6.2.post1)\n",
      "Requirement already satisfied: distro<2,>=1.7.0 in d:\\software\\anaconda3-202402\\envs\\deepseek\\lib\\site-packages (from openai==1.40.8->-r ./requirements.txt (line 4)) (1.9.0)\n",
      "Requirement already satisfied: jiter<1,>=0.4.0 in d:\\software\\anaconda3-202402\\envs\\deepseek\\lib\\site-packages (from openai==1.40.8->-r ./requirements.txt (line 4)) (0.6.1)\n",
      "Requirement already satisfied: sniffio in d:\\software\\anaconda3-202402\\envs\\deepseek\\lib\\site-packages (from openai==1.40.8->-r ./requirements.txt (line 4)) (1.3.1)\n",
      "Requirement already satisfied: tqdm>4 in d:\\software\\anaconda3-202402\\envs\\deepseek\\lib\\site-packages (from openai==1.40.8->-r ./requirements.txt (line 4)) (4.66.5)\n",
      "Requirement already satisfied: beautifulsoup4<5.0.0,>=4.12.3 in d:\\software\\anaconda3-202402\\envs\\deepseek\\lib\\site-packages (from llama-index-readers-file==0.1.33->-r ./requirements.txt (line 7)) (4.12.3)\n",
      "Requirement already satisfied: pypdf<5.0.0,>=4.0.1 in d:\\software\\anaconda3-202402\\envs\\deepseek\\lib\\site-packages (from llama-index-readers-file==0.1.33->-r ./requirements.txt (line 7)) (4.3.1)\n",
      "Requirement already satisfied: striprtf<0.0.27,>=0.0.26 in d:\\software\\anaconda3-202402\\envs\\deepseek\\lib\\site-packages (from llama-index-readers-file==0.1.33->-r ./requirements.txt (line 7)) (0.0.26)\n",
      "Requirement already satisfied: et-xmlfile in d:\\software\\anaconda3-202402\\envs\\deepseek\\lib\\site-packages (from openpyxl==3.1.5->-r ./requirements.txt (line 9)) (2.0.0)\n",
      "Requirement already satisfied: SQLAlchemy>=1.4.49 in d:\\software\\anaconda3-202402\\envs\\deepseek\\lib\\site-packages (from SQLAlchemy[asyncio]>=1.4.49->llama-index-core==0.10.67->-r ./requirements.txt (line 10)) (2.0.36)\n",
      "Requirement already satisfied: dataclasses-json in d:\\software\\anaconda3-202402\\envs\\deepseek\\lib\\site-packages (from llama-index-core==0.10.67->-r ./requirements.txt (line 10)) (0.6.7)\n",
      "Requirement already satisfied: deprecated>=1.2.9.3 in d:\\software\\anaconda3-202402\\envs\\deepseek\\lib\\site-packages (from llama-index-core==0.10.67->-r ./requirements.txt (line 10)) (1.2.14)\n",
      "Requirement already satisfied: dirtyjson<2.0.0,>=1.0.8 in d:\\software\\anaconda3-202402\\envs\\deepseek\\lib\\site-packages (from llama-index-core==0.10.67->-r ./requirements.txt (line 10)) (1.0.8)\n",
      "Requirement already satisfied: fsspec>=2023.5.0 in d:\\software\\anaconda3-202402\\envs\\deepseek\\lib\\site-packages (from llama-index-core==0.10.67->-r ./requirements.txt (line 10)) (2024.9.0)\n",
      "Requirement already satisfied: nest-asyncio<2.0.0,>=1.5.8 in d:\\software\\anaconda3-202402\\envs\\deepseek\\lib\\site-packages (from llama-index-core==0.10.67->-r ./requirements.txt (line 10)) (1.6.0)\n",
      "Requirement already satisfied: networkx>=3.0 in d:\\software\\anaconda3-202402\\envs\\deepseek\\lib\\site-packages (from llama-index-core==0.10.67->-r ./requirements.txt (line 10)) (3.4.2)\n",
      "Requirement already satisfied: nltk!=3.9,>=3.8.1 in d:\\software\\anaconda3-202402\\envs\\deepseek\\lib\\site-packages (from llama-index-core==0.10.67->-r ./requirements.txt (line 10)) (3.9.1)\n",
      "Requirement already satisfied: tenacity!=8.4.0,<9.0.0,>=8.2.0 in d:\\software\\anaconda3-202402\\envs\\deepseek\\lib\\site-packages (from llama-index-core==0.10.67->-r ./requirements.txt (line 10)) (8.5.0)\n",
      "Requirement already satisfied: tiktoken>=0.3.3 in d:\\software\\anaconda3-202402\\envs\\deepseek\\lib\\site-packages (from llama-index-core==0.10.67->-r ./requirements.txt (line 10)) (0.8.0)\n",
      "Requirement already satisfied: typing-inspect>=0.8.0 in d:\\software\\anaconda3-202402\\envs\\deepseek\\lib\\site-packages (from llama-index-core==0.10.67->-r ./requirements.txt (line 10)) (0.9.0)\n",
      "Requirement already satisfied: wrapt in d:\\software\\anaconda3-202402\\envs\\deepseek\\lib\\site-packages (from llama-index-core==0.10.67->-r ./requirements.txt (line 10)) (1.16.0)\n",
      "Requirement already satisfied: retrying<2.0.0,>=1.3.4 in d:\\software\\anaconda3-202402\\envs\\deepseek\\lib\\site-packages (from llama-index-readers-dashscope==0.1.2->-r ./requirements.txt (line 12)) (1.3.4)\n",
      "Requirement already satisfied: click>=7.0 in d:\\software\\anaconda3-202402\\envs\\deepseek\\lib\\site-packages (from uvicorn==0.30.6->-r ./requirements.txt (line 13)) (8.1.7)\n",
      "Requirement already satisfied: h11>=0.8 in d:\\software\\anaconda3-202402\\envs\\deepseek\\lib\\site-packages (from uvicorn==0.30.6->-r ./requirements.txt (line 13)) (0.14.0)\n",
      "Requirement already satisfied: starlette<0.39.0,>=0.37.2 in d:\\software\\anaconda3-202402\\envs\\deepseek\\lib\\site-packages (from fastapi==0.114.1->-r ./requirements.txt (line 14)) (0.37.2)\n",
      "Requirement already satisfied: contourpy>=1.0.1 in d:\\software\\anaconda3-202402\\envs\\deepseek\\lib\\site-packages (from matplotlib==3.9.2->-r ./requirements.txt (line 17)) (1.3.0)\n",
      "Requirement already satisfied: cycler>=0.10 in d:\\software\\anaconda3-202402\\envs\\deepseek\\lib\\site-packages (from matplotlib==3.9.2->-r ./requirements.txt (line 17)) (0.12.1)\n",
      "Requirement already satisfied: fonttools>=4.22.0 in d:\\software\\anaconda3-202402\\envs\\deepseek\\lib\\site-packages (from matplotlib==3.9.2->-r ./requirements.txt (line 17)) (4.54.1)\n",
      "Requirement already satisfied: kiwisolver>=1.3.1 in d:\\software\\anaconda3-202402\\envs\\deepseek\\lib\\site-packages (from matplotlib==3.9.2->-r ./requirements.txt (line 17)) (1.4.7)\n",
      "Requirement already satisfied: pyparsing>=2.3.1 in d:\\software\\anaconda3-202402\\envs\\deepseek\\lib\\site-packages (from matplotlib==3.9.2->-r ./requirements.txt (line 17)) (3.2.0)\n",
      "Requirement already satisfied: python-dateutil>=2.7 in d:\\software\\anaconda3-202402\\envs\\deepseek\\lib\\site-packages (from matplotlib==3.9.2->-r ./requirements.txt (line 17)) (2.9.0.post0)\n",
      "Requirement already satisfied: datasets in d:\\software\\anaconda3-202402\\envs\\deepseek\\lib\\site-packages (from ragas==0.1.9->-r ./requirements.txt (line 18)) (3.1.0)\n",
      "Requirement already satisfied: langchain in d:\\software\\anaconda3-202402\\envs\\deepseek\\lib\\site-packages (from ragas==0.1.9->-r ./requirements.txt (line 18)) (0.2.16)\n",
      "Requirement already satisfied: langchain-core in d:\\software\\anaconda3-202402\\envs\\deepseek\\lib\\site-packages (from ragas==0.1.9->-r ./requirements.txt (line 18)) (0.2.43)\n",
      "Requirement already satisfied: langchain-openai in d:\\software\\anaconda3-202402\\envs\\deepseek\\lib\\site-packages (from ragas==0.1.9->-r ./requirements.txt (line 18)) (0.1.25)\n",
      "Requirement already satisfied: pysbd>=0.3.4 in d:\\software\\anaconda3-202402\\envs\\deepseek\\lib\\site-packages (from ragas==0.1.9->-r ./requirements.txt (line 18)) (0.3.4)\n",
      "Requirement already satisfied: appdirs in d:\\software\\anaconda3-202402\\envs\\deepseek\\lib\\site-packages (from ragas==0.1.9->-r ./requirements.txt (line 18)) (1.4.4)\n",
      "Requirement already satisfied: langsmith<0.2.0,>=0.1.112 in d:\\software\\anaconda3-202402\\envs\\deepseek\\lib\\site-packages (from langchain_community==0.2.17->-r ./requirements.txt (line 19)) (0.1.139)\n",
      "Requirement already satisfied: alibabacloud-endpoint-util<1.0.0,>=0.0.3 in d:\\software\\anaconda3-202402\\envs\\deepseek\\lib\\site-packages (from alibabacloud_bailian20231229==1.8.2->-r ./requirements.txt (line 20)) (0.0.3)\n",
      "Requirement already satisfied: alibabacloud-openapi-util<1.0.0,>=0.2.1 in d:\\software\\anaconda3-202402\\envs\\deepseek\\lib\\site-packages (from alibabacloud_bailian20231229==1.8.2->-r ./requirements.txt (line 20)) (0.2.2)\n",
      "Requirement already satisfied: alibabacloud-tea-openapi<1.0.0,>=0.3.11 in d:\\software\\anaconda3-202402\\envs\\deepseek\\lib\\site-packages (from alibabacloud_bailian20231229==1.8.2->-r ./requirements.txt (line 20)) (0.3.12)\n",
      "Requirement already satisfied: alibabacloud-tea-util<1.0.0,>=0.3.13 in d:\\software\\anaconda3-202402\\envs\\deepseek\\lib\\site-packages (from alibabacloud_bailian20231229==1.8.2->-r ./requirements.txt (line 20)) (0.3.13)\n",
      "Requirement already satisfied: pytz>=2020.1 in d:\\software\\anaconda3-202402\\envs\\deepseek\\lib\\site-packages (from pandas==2.0.3->-r ./requirements.txt (line 21)) (2024.2)\n",
      "Requirement already satisfied: tzdata>=2022.1 in d:\\software\\anaconda3-202402\\envs\\deepseek\\lib\\site-packages (from pandas==2.0.3->-r ./requirements.txt (line 21)) (2024.2)\n",
      "Requirement already satisfied: crcmod>=1.7 in d:\\software\\anaconda3-202402\\envs\\deepseek\\lib\\site-packages (from oss2==2.19.0->-r ./requirements.txt (line 23)) (1.7)\n",
      "Requirement already satisfied: pycryptodome>=3.4.7 in d:\\software\\anaconda3-202402\\envs\\deepseek\\lib\\site-packages (from oss2==2.19.0->-r ./requirements.txt (line 23)) (3.21.0)\n",
      "Requirement already satisfied: aliyun-python-sdk-kms>=2.4.1 in d:\\software\\anaconda3-202402\\envs\\deepseek\\lib\\site-packages (from oss2==2.19.0->-r ./requirements.txt (line 23)) (2.16.5)\n",
      "Requirement already satisfied: aliyun-python-sdk-core>=2.13.12 in d:\\software\\anaconda3-202402\\envs\\deepseek\\lib\\site-packages (from oss2==2.19.0->-r ./requirements.txt (line 23)) (2.16.0)\n",
      "Requirement already satisfied: six in d:\\software\\anaconda3-202402\\envs\\deepseek\\lib\\site-packages (from oss2==2.19.0->-r ./requirements.txt (line 23)) (1.16.0)\n",
      "Requirement already satisfied: websockets<12.0,>=10.0 in d:\\software\\anaconda3-202402\\envs\\deepseek\\lib\\site-packages (from gradio-client==0.17.0->gradio==4.32.0->-r ./requirements.txt (line 1)) (11.0.3)\n",
      "Requirement already satisfied: aiohappyeyeballs>=2.3.0 in d:\\software\\anaconda3-202402\\envs\\deepseek\\lib\\site-packages (from aiohttp->dashscope==1.20.12->-r ./requirements.txt (line 3)) (2.4.3)\n",
      "Requirement already satisfied: aiosignal>=1.1.2 in d:\\software\\anaconda3-202402\\envs\\deepseek\\lib\\site-packages (from aiohttp->dashscope==1.20.12->-r ./requirements.txt (line 3)) (1.3.1)\n",
      "Requirement already satisfied: attrs>=17.3.0 in d:\\software\\anaconda3-202402\\envs\\deepseek\\lib\\site-packages (from aiohttp->dashscope==1.20.12->-r ./requirements.txt (line 3)) (24.2.0)\n",
      "Requirement already satisfied: frozenlist>=1.1.1 in d:\\software\\anaconda3-202402\\envs\\deepseek\\lib\\site-packages (from aiohttp->dashscope==1.20.12->-r ./requirements.txt (line 3)) (1.5.0)\n",
      "Requirement already satisfied: multidict<7.0,>=4.5 in d:\\software\\anaconda3-202402\\envs\\deepseek\\lib\\site-packages (from aiohttp->dashscope==1.20.12->-r ./requirements.txt (line 3)) (6.1.0)\n",
      "Requirement already satisfied: yarl<2.0,>=1.12.0 in d:\\software\\anaconda3-202402\\envs\\deepseek\\lib\\site-packages (from aiohttp->dashscope==1.20.12->-r ./requirements.txt (line 3)) (1.17.1)\n",
      "Requirement already satisfied: alibabacloud-tea>=0.0.1 in d:\\software\\anaconda3-202402\\envs\\deepseek\\lib\\site-packages (from alibabacloud-endpoint-util<1.0.0,>=0.0.3->alibabacloud_bailian20231229==1.8.2->-r ./requirements.txt (line 20)) (0.4.0)\n",
      "Requirement already satisfied: cryptography>=3.0.0 in d:\\software\\anaconda3-202402\\envs\\deepseek\\lib\\site-packages (from alibabacloud-openapi-util<1.0.0,>=0.2.1->alibabacloud_bailian20231229==1.8.2->-r ./requirements.txt (line 20)) (43.0.3)\n",
      "Requirement already satisfied: alibabacloud-credentials<1.0.0,>=0.3.5 in d:\\software\\anaconda3-202402\\envs\\deepseek\\lib\\site-packages (from alibabacloud-tea-openapi<1.0.0,>=0.3.11->alibabacloud_bailian20231229==1.8.2->-r ./requirements.txt (line 20)) (0.3.6)\n",
      "Requirement already satisfied: alibabacloud-gateway-spi<1.0.0,>=0.0.2 in d:\\software\\anaconda3-202402\\envs\\deepseek\\lib\\site-packages (from alibabacloud-tea-openapi<1.0.0,>=0.3.11->alibabacloud_bailian20231229==1.8.2->-r ./requirements.txt (line 20)) (0.0.2)\n",
      "Requirement already satisfied: alibabacloud-tea-xml<1.0.0,>=0.0.2 in d:\\software\\anaconda3-202402\\envs\\deepseek\\lib\\site-packages (from alibabacloud-tea-openapi<1.0.0,>=0.3.11->alibabacloud_bailian20231229==1.8.2->-r ./requirements.txt (line 20)) (0.0.2)\n",
      "Requirement already satisfied: jmespath<1.0.0,>=0.9.3 in d:\\software\\anaconda3-202402\\envs\\deepseek\\lib\\site-packages (from aliyun-python-sdk-core>=2.13.12->oss2==2.19.0->-r ./requirements.txt (line 23)) (0.10.0)\n",
      "Requirement already satisfied: jsonschema>=3.0 in d:\\software\\anaconda3-202402\\envs\\deepseek\\lib\\site-packages (from altair<6.0,>=4.2.0->gradio==4.32.0->-r ./requirements.txt (line 1)) (4.23.0)\n",
      "Requirement already satisfied: narwhals>=1.5.2 in d:\\software\\anaconda3-202402\\envs\\deepseek\\lib\\site-packages (from altair<6.0,>=4.2.0->gradio==4.32.0->-r ./requirements.txt (line 1)) (1.12.1)\n",
      "Requirement already satisfied: idna>=2.8 in d:\\software\\anaconda3-202402\\envs\\deepseek\\lib\\site-packages (from anyio<5,>=3.5.0->openai==1.40.8->-r ./requirements.txt (line 4)) (3.10)\n",
      "Requirement already satisfied: soupsieve>1.2 in d:\\software\\anaconda3-202402\\envs\\deepseek\\lib\\site-packages (from beautifulsoup4<5.0.0,>=4.12.3->llama-index-readers-file==0.1.33->-r ./requirements.txt (line 7)) (2.6)\n",
      "Requirement already satisfied: colorama in d:\\software\\anaconda3-202402\\envs\\deepseek\\lib\\site-packages (from click>=7.0->uvicorn==0.30.6->-r ./requirements.txt (line 13)) (0.4.6)\n",
      "Requirement already satisfied: marshmallow<4.0.0,>=3.18.0 in d:\\software\\anaconda3-202402\\envs\\deepseek\\lib\\site-packages (from dataclasses-json->llama-index-core==0.10.67->-r ./requirements.txt (line 10)) (3.23.0)\n",
      "Requirement already satisfied: certifi in d:\\software\\anaconda3-202402\\envs\\deepseek\\lib\\site-packages (from httpx>=0.24.1->gradio==4.32.0->-r ./requirements.txt (line 1)) (2024.8.30)\n",
      "Requirement already satisfied: httpcore==1.* in d:\\software\\anaconda3-202402\\envs\\deepseek\\lib\\site-packages (from httpx>=0.24.1->gradio==4.32.0->-r ./requirements.txt (line 1)) (1.0.6)\n",
      "Requirement already satisfied: filelock in d:\\software\\anaconda3-202402\\envs\\deepseek\\lib\\site-packages (from huggingface-hub>=0.19.3->gradio==4.32.0->-r ./requirements.txt (line 1)) (3.16.1)\n",
      "Requirement already satisfied: langchain-text-splitters<0.3.0,>=0.2.0 in d:\\software\\anaconda3-202402\\envs\\deepseek\\lib\\site-packages (from langchain->ragas==0.1.9->-r ./requirements.txt (line 18)) (0.2.4)\n",
      "Requirement already satisfied: jsonpatch<2.0,>=1.33 in d:\\software\\anaconda3-202402\\envs\\deepseek\\lib\\site-packages (from langchain-core->ragas==0.1.9->-r ./requirements.txt (line 18)) (1.33)\n",
      "Requirement already satisfied: requests-toolbelt<2.0.0,>=1.0.0 in d:\\software\\anaconda3-202402\\envs\\deepseek\\lib\\site-packages (from langsmith<0.2.0,>=0.1.112->langchain_community==0.2.17->-r ./requirements.txt (line 19)) (1.0.0)\n",
      "Requirement already satisfied: joblib in d:\\software\\anaconda3-202402\\envs\\deepseek\\lib\\site-packages (from nltk!=3.9,>=3.8.1->llama-index-core==0.10.67->-r ./requirements.txt (line 10)) (1.4.2)\n",
      "Requirement already satisfied: regex>=2021.8.3 in d:\\software\\anaconda3-202402\\envs\\deepseek\\lib\\site-packages (from nltk!=3.9,>=3.8.1->llama-index-core==0.10.67->-r ./requirements.txt (line 10)) (2024.9.11)\n",
      "Requirement already satisfied: annotated-types>=0.6.0 in d:\\software\\anaconda3-202402\\envs\\deepseek\\lib\\site-packages (from pydantic>=2.0->gradio==4.32.0->-r ./requirements.txt (line 1)) (0.7.0)\n",
      "Requirement already satisfied: pydantic-core==2.23.4 in d:\\software\\anaconda3-202402\\envs\\deepseek\\lib\\site-packages (from pydantic>=2.0->gradio==4.32.0->-r ./requirements.txt (line 1)) (2.23.4)\n",
      "Requirement already satisfied: charset-normalizer<4,>=2 in d:\\software\\anaconda3-202402\\envs\\deepseek\\lib\\site-packages (from requests->dashscope==1.20.12->-r ./requirements.txt (line 3)) (3.4.0)\n",
      "Requirement already satisfied: greenlet!=0.4.17 in d:\\software\\anaconda3-202402\\envs\\deepseek\\lib\\site-packages (from SQLAlchemy>=1.4.49->SQLAlchemy[asyncio]>=1.4.49->llama-index-core==0.10.67->-r ./requirements.txt (line 10)) (3.1.1)\n",
      "Requirement already satisfied: shellingham>=1.3.0 in d:\\software\\anaconda3-202402\\envs\\deepseek\\lib\\site-packages (from typer<1.0,>=0.12->gradio==4.32.0->-r ./requirements.txt (line 1)) (1.5.4)\n",
      "Requirement already satisfied: rich>=10.11.0 in d:\\software\\anaconda3-202402\\envs\\deepseek\\lib\\site-packages (from typer<1.0,>=0.12->gradio==4.32.0->-r ./requirements.txt (line 1)) (13.9.2)\n",
      "Requirement already satisfied: mypy-extensions>=0.3.0 in d:\\software\\anaconda3-202402\\envs\\deepseek\\lib\\site-packages (from typing-inspect>=0.8.0->llama-index-core==0.10.67->-r ./requirements.txt (line 10)) (1.0.0)\n",
      "Requirement already satisfied: pyarrow>=15.0.0 in d:\\software\\anaconda3-202402\\envs\\deepseek\\lib\\site-packages (from datasets->ragas==0.1.9->-r ./requirements.txt (line 18)) (18.0.0)\n",
      "Requirement already satisfied: dill<0.3.9,>=0.3.0 in d:\\software\\anaconda3-202402\\envs\\deepseek\\lib\\site-packages (from datasets->ragas==0.1.9->-r ./requirements.txt (line 18)) (0.3.8)\n",
      "Requirement already satisfied: xxhash in d:\\software\\anaconda3-202402\\envs\\deepseek\\lib\\site-packages (from datasets->ragas==0.1.9->-r ./requirements.txt (line 18)) (3.5.0)\n",
      "Requirement already satisfied: multiprocess<0.70.17 in d:\\software\\anaconda3-202402\\envs\\deepseek\\lib\\site-packages (from datasets->ragas==0.1.9->-r ./requirements.txt (line 18)) (0.70.16)\n",
      "Requirement already satisfied: cffi>=1.12 in d:\\software\\anaconda3-202402\\envs\\deepseek\\lib\\site-packages (from cryptography>=3.0.0->alibabacloud-openapi-util<1.0.0,>=0.2.1->alibabacloud_bailian20231229==1.8.2->-r ./requirements.txt (line 20)) (1.17.1)\n",
      "Requirement already satisfied: jsonpointer>=1.9 in d:\\software\\anaconda3-202402\\envs\\deepseek\\lib\\site-packages (from jsonpatch<2.0,>=1.33->langchain-core->ragas==0.1.9->-r ./requirements.txt (line 18)) (3.0.0)\n",
      "Requirement already satisfied: jsonschema-specifications>=2023.03.6 in d:\\software\\anaconda3-202402\\envs\\deepseek\\lib\\site-packages (from jsonschema>=3.0->altair<6.0,>=4.2.0->gradio==4.32.0->-r ./requirements.txt (line 1)) (2024.10.1)\n",
      "Requirement already satisfied: referencing>=0.28.4 in d:\\software\\anaconda3-202402\\envs\\deepseek\\lib\\site-packages (from jsonschema>=3.0->altair<6.0,>=4.2.0->gradio==4.32.0->-r ./requirements.txt (line 1)) (0.35.1)\n",
      "Requirement already satisfied: rpds-py>=0.7.1 in d:\\software\\anaconda3-202402\\envs\\deepseek\\lib\\site-packages (from jsonschema>=3.0->altair<6.0,>=4.2.0->gradio==4.32.0->-r ./requirements.txt (line 1)) (0.20.1)\n",
      "Requirement already satisfied: markdown-it-py>=2.2.0 in d:\\software\\anaconda3-202402\\envs\\deepseek\\lib\\site-packages (from rich>=10.11.0->typer<1.0,>=0.12->gradio==4.32.0->-r ./requirements.txt (line 1)) (3.0.0)\n",
      "Requirement already satisfied: pygments<3.0.0,>=2.13.0 in d:\\software\\anaconda3-202402\\envs\\deepseek\\lib\\site-packages (from rich>=10.11.0->typer<1.0,>=0.12->gradio==4.32.0->-r ./requirements.txt (line 1)) (2.18.0)\n",
      "Requirement already satisfied: propcache>=0.2.0 in d:\\software\\anaconda3-202402\\envs\\deepseek\\lib\\site-packages (from yarl<2.0,>=1.12.0->aiohttp->dashscope==1.20.12->-r ./requirements.txt (line 3)) (0.2.0)\n",
      "Requirement already satisfied: pycparser in d:\\software\\anaconda3-202402\\envs\\deepseek\\lib\\site-packages (from cffi>=1.12->cryptography>=3.0.0->alibabacloud-openapi-util<1.0.0,>=0.2.1->alibabacloud_bailian20231229==1.8.2->-r ./requirements.txt (line 20)) (2.22)\n",
      "Requirement already satisfied: mdurl~=0.1 in d:\\software\\anaconda3-202402\\envs\\deepseek\\lib\\site-packages (from markdown-it-py>=2.2.0->rich>=10.11.0->typer<1.0,>=0.12->gradio==4.32.0->-r ./requirements.txt (line 1)) (0.1.2)\n",
      "Note: you may need to restart the kernel to use updated packages.\n"
     ]
    }
   ],
   "source": [
    "%pip install -r ./requirements.txt"
   ]
  },
  {
   "cell_type": "code",
   "execution_count": 13,
   "metadata": {},
   "outputs": [
    {
     "name": "stdout",
     "output_type": "stream",
     "text": [
      "你配置的 API Key 是：sk-9a*****\n"
     ]
    }
   ],
   "source": [
    "import os\n",
    "\n",
    "from config.load_key import load_key\n",
    "load_key()\n",
    "\n",
    "# 生产环境中请勿将 API Key 输出到日志中，避免泄露\n",
    "print(f'''你配置的 API Key 是：{os.environ[\"DASHSCOPE_API_KEY\"][:5]+\"*\"*5}''')"
   ]
  },
  {
   "cell_type": "markdown",
   "metadata": {},
   "source": [
    "文件解析"
   ]
  },
  {
   "cell_type": "code",
   "execution_count": 1,
   "metadata": {},
   "outputs": [
    {
     "data": {
      "text/plain": [
       "'中文：我叫贾维斯，是您的智能助手。\\n英文：My name is JARVIS, I am your intelligent assistant.'"
      ]
     },
     "execution_count": 1,
     "metadata": {},
     "output_type": "execute_result"
    }
   ],
   "source": [
    "from llama_index.llms.dashscope import DashScope\n",
    "from llama_index.core.base.llms.types import MessageRole, ChatMessage\n",
    "\n",
    "# 定义 llm 用于后续和大模型交互\n",
    "llm = DashScope(model_name=\"qwen-plus\")\n",
    "\n",
    "messages = [\n",
    "    ChatMessage(role=MessageRole.SYSTEM, content=\"你是智能助理贾维斯，分别用中文和英文回答我的问题。\"),\n",
    "    ChatMessage(role=MessageRole.USER, content=\"你叫什么名字？\")\n",
    "    ]\n",
    "\n",
    "# notebook 中运行代码块后，会打印最后一个变量，无需使用 print 方法\n",
    "llm.chat(messages).message.content"
   ]
  },
  {
   "cell_type": "code",
   "execution_count": 2,
   "metadata": {},
   "outputs": [
    {
     "name": "stdout",
     "output_type": "stream",
     "text": [
      "中文：我叫贾维斯，是您的智能助手。\n",
      "英文：My name is JARVIS, I am your intelligent assistant."
     ]
    }
   ],
   "source": [
    "# 流式回答\n",
    "responses = llm.stream_chat(messages)\n",
    "for response in responses:\n",
    "    print(response.delta, end=\"\")"
   ]
  },
  {
   "cell_type": "code",
   "execution_count": 3,
   "metadata": {},
   "outputs": [
    {
     "name": "stdout",
     "output_type": "stream",
     "text": [
      "[Document(id_='aaa697db-1f67-4333-87f5-1b0d1f8dcf42', embedding=None, metadata={'file_path': 'e:\\\\AI_Python_for_Intermediates\\\\Chap5\\\\files\\\\name.txt', 'file_name': 'name.txt', 'file_type': 'text/plain', 'file_size': 76, 'creation_date': '2024-11-02', 'last_modified_date': '2024-11-02'}, excluded_embed_metadata_keys=['file_name', 'file_type', 'file_size', 'creation_date', 'last_modified_date', 'last_accessed_date'], excluded_llm_metadata_keys=['file_name', 'file_type', 'file_size', 'creation_date', 'last_modified_date', 'last_accessed_date'], relationships={}, text='我的名字是贾维斯\\r\\n\\r\\n我的回复方式是中文和英文同时回复', mimetype='text/plain', start_char_idx=None, end_char_idx=None, text_template='{metadata_str}\\n\\n{content}', metadata_template='{key}: {value}', metadata_seperator='\\n')]\n",
      "完成文件解析和读取\n"
     ]
    }
   ],
   "source": [
    "import os\n",
    "\n",
    "from llama_index.readers.dashscope.base import DashScopeParse\n",
    "from llama_index.readers.dashscope.utils import ResultType\n",
    "from llama_index.embeddings.dashscope import DashScopeEmbedding,DashScopeTextEmbeddingModels\n",
    "from llama_index.core import SimpleDirectoryReader,VectorStoreIndex\n",
    "\n",
    "\n",
    "# 忽略警告级别的日志\n",
    "# import logging\n",
    "# logging.basicConfig(level=logging.ERROR)\n",
    "\n",
    "\n",
    "# 多个独立文件\n",
    "# file = [\n",
    "#     # 需要解析的文件，支持pdf,doc,docx\n",
    "# ]\n",
    "# parse = DashScopeParse(result_type=ResultType.DASHSCOPE_DOCMIND)\n",
    "# documents = parse.load_data(file_path=file)\n",
    "\n",
    "# 使用SimpleDirectoryReader读取文件夹下所有文件\n",
    "from llama_index.core import SimpleDirectoryReader\n",
    "parse = DashScopeParse(result_type=ResultType.DASHSCOPE_DOCMIND)\n",
    "file_extractor = {\".pdf\": parse, '.doc': parse, '.docx': parse}\n",
    "# 使用 Data connectors 将不同格式注入并转化为 Llamaindex 支持的 Document\n",
    "# Document 是 Llamaindex 中容器，Node 是 Llamaindex 中最小单元，是 Document 的分块\n",
    "documents = SimpleDirectoryReader(\n",
    "   \"./files\", file_extractor=file_extractor\n",
    ").load_data(num_workers=1)\n",
    "print(documents)\n",
    "print(\"完成文件解析和读取\")"
   ]
  },
  {
   "cell_type": "markdown",
   "metadata": {},
   "source": [
    "2. 创建索引"
   ]
  },
  {
   "cell_type": "code",
   "execution_count": 4,
   "metadata": {},
   "outputs": [
    {
     "name": "stdout",
     "output_type": "stream",
     "text": [
      "完成向量化和索引构建\n"
     ]
    }
   ],
   "source": [
    "from llama_index.indices.managed.dashscope import DashScopeCloudIndex\n",
    "\n",
    "# create a new index\n",
    "index = VectorStoreIndex.from_documents(\n",
    "    documents,\n",
    "    # 指定embedding 模型\n",
    "    embed_model=DashScopeEmbedding(\n",
    "        model_name=DashScopeTextEmbeddingModels.TEXT_EMBEDDING_V3\n",
    "    ))\n",
    "\n",
    "print(\"完成向量化和索引构建\")\n",
    "\n",
    "# 更多embedding模型：\n",
    "# https://help.aliyun.com/zh/model-studio/getting-started/models#3383780daf8hw"
   ]
  },
  {
   "cell_type": "markdown",
   "metadata": {},
   "source": [
    "3. 读取索引"
   ]
  },
  {
   "cell_type": "code",
   "execution_count": 5,
   "metadata": {},
   "outputs": [],
   "source": [
    "my_index = DashScopeCloudIndex(\"my_first_index\")"
   ]
  },
  {
   "cell_type": "markdown",
   "metadata": {},
   "source": [
    "4. 创建提问引擎"
   ]
  },
  {
   "cell_type": "code",
   "execution_count": 6,
   "metadata": {},
   "outputs": [
    {
     "name": "stdout",
     "output_type": "stream",
     "text": [
      "完成查询引擎构建\n"
     ]
    }
   ],
   "source": [
    "query_engine = index.as_query_engine(\n",
    "    # 设置为流式输出\n",
    "    streaming=True,\n",
    "    # 设置大模型名称\n",
    "    llm=DashScope(model_name=\"qwen-plus\")\n",
    "    )\n",
    "print(\"完成查询引擎构建\")\n",
    "\n",
    "# 更多文本生成模型：\n",
    "# https://help.aliyun.com/zh/model-studio/getting-started/models#9f8890ce29g5u"
   ]
  },
  {
   "cell_type": "markdown",
   "metadata": {},
   "source": [
    "5. 生成回复"
   ]
  },
  {
   "cell_type": "code",
   "execution_count": 7,
   "metadata": {},
   "outputs": [
    {
     "name": "stdout",
     "output_type": "stream",
     "text": [
      "正在生成回复，请稍等\n"
     ]
    }
   ],
   "source": [
    "# 封装了很多方法：\n",
    "# Retriever：检索器，用于从索引中检索相关文档\n",
    "# RAG管道：用于处理用户查询并生成响应\n",
    "#   QueryEngine：查询引擎，用于处理用户查询并生成响应\n",
    "#   ChatQueryEngine：聊天查询引擎，用于处理用户聊天查询并生成响应\n",
    "#   Agent：基于用户意图动态决策，不使用预定逻辑\n",
    "\n",
    "streaming_response = query_engine.query('你的名字是什么？')\n",
    "print(\"正在生成回复，请稍等\")"
   ]
  },
  {
   "cell_type": "markdown",
   "metadata": {},
   "source": [
    "6. 显示生成结果"
   ]
  },
  {
   "cell_type": "code",
   "execution_count": 8,
   "metadata": {},
   "outputs": [
    {
     "name": "stdout",
     "output_type": "stream",
     "text": [
      "我的名字是贾维斯。My name is Jarvis.完成查询\n"
     ]
    }
   ],
   "source": [
    "streaming_response.print_response_stream()\n",
    "print(\"完成查询\")"
   ]
  }
 ],
 "metadata": {
  "kernelspec": {
   "display_name": "deepseek",
   "language": "python",
   "name": "python3"
  },
  "language_info": {
   "codemirror_mode": {
    "name": "ipython",
    "version": 3
   },
   "file_extension": ".py",
   "mimetype": "text/x-python",
   "name": "python",
   "nbconvert_exporter": "python",
   "pygments_lexer": "ipython3",
   "version": "3.11.10"
  }
 },
 "nbformat": 4,
 "nbformat_minor": 2
}
