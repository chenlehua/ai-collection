{
 "cells": [
  {
   "cell_type": "code",
   "id": "initial_id",
   "metadata": {
    "collapsed": true,
    "ExecuteTime": {
     "end_time": "2025-07-05T07:30:39.304442Z",
     "start_time": "2025-07-05T07:30:39.302695Z"
    }
   },
   "source": [
    "import pandas as pd\n",
    "from pandas import DataFrame, Series\n",
    "import numpy as np"
   ],
   "outputs": [],
   "execution_count": 20
  },
  {
   "metadata": {
    "ExecuteTime": {
     "end_time": "2025-07-05T07:25:01.274949Z",
     "start_time": "2025-07-05T07:25:01.272594Z"
    }
   },
   "cell_type": "code",
   "source": "obj = pd.Series([4, 7, -5, 3])",
   "id": "a4ab94116697694d",
   "outputs": [],
   "execution_count": 2
  },
  {
   "metadata": {
    "ExecuteTime": {
     "end_time": "2025-07-05T07:25:03.334130Z",
     "start_time": "2025-07-05T07:25:03.330552Z"
    }
   },
   "cell_type": "code",
   "source": "obj",
   "id": "12df17e04c455ee5",
   "outputs": [
    {
     "data": {
      "text/plain": [
       "0    4\n",
       "1    7\n",
       "2   -5\n",
       "3    3\n",
       "dtype: int64"
      ]
     },
     "execution_count": 3,
     "metadata": {},
     "output_type": "execute_result"
    }
   ],
   "execution_count": 3
  },
  {
   "metadata": {
    "ExecuteTime": {
     "end_time": "2025-07-05T07:25:16.582799Z",
     "start_time": "2025-07-05T07:25:16.579281Z"
    }
   },
   "cell_type": "code",
   "source": "obj.values",
   "id": "5006e5887175a72b",
   "outputs": [
    {
     "data": {
      "text/plain": [
       "array([ 4,  7, -5,  3])"
      ]
     },
     "execution_count": 5,
     "metadata": {},
     "output_type": "execute_result"
    }
   ],
   "execution_count": 5
  },
  {
   "metadata": {
    "ExecuteTime": {
     "end_time": "2025-07-05T07:25:21.879967Z",
     "start_time": "2025-07-05T07:25:21.877585Z"
    }
   },
   "cell_type": "code",
   "source": "obj.index",
   "id": "31d1ebd922694673",
   "outputs": [
    {
     "data": {
      "text/plain": [
       "RangeIndex(start=0, stop=4, step=1)"
      ]
     },
     "execution_count": 6,
     "metadata": {},
     "output_type": "execute_result"
    }
   ],
   "execution_count": 6
  },
  {
   "metadata": {
    "ExecuteTime": {
     "end_time": "2025-07-05T07:26:19.159200Z",
     "start_time": "2025-07-05T07:26:19.156062Z"
    }
   },
   "cell_type": "code",
   "source": "obj2 = pd.Series([4, 7, -5, 3], ['d', 'b', 'a', 'c'])",
   "id": "12734b9c446989ab",
   "outputs": [],
   "execution_count": 9
  },
  {
   "metadata": {
    "ExecuteTime": {
     "end_time": "2025-07-05T07:26:23.799336Z",
     "start_time": "2025-07-05T07:26:23.796687Z"
    }
   },
   "cell_type": "code",
   "source": "obj2",
   "id": "740d3522d39307fd",
   "outputs": [
    {
     "data": {
      "text/plain": [
       "d    4\n",
       "b    7\n",
       "a   -5\n",
       "c    3\n",
       "dtype: int64"
      ]
     },
     "execution_count": 10,
     "metadata": {},
     "output_type": "execute_result"
    }
   ],
   "execution_count": 10
  },
  {
   "metadata": {
    "ExecuteTime": {
     "end_time": "2025-07-05T07:27:55.842499Z",
     "start_time": "2025-07-05T07:27:55.840151Z"
    }
   },
   "cell_type": "code",
   "source": "obj2.index",
   "id": "8accc1d22e0c1bba",
   "outputs": [
    {
     "data": {
      "text/plain": [
       "Index(['d', 'b', 'a', 'c'], dtype='object')"
      ]
     },
     "execution_count": 11,
     "metadata": {},
     "output_type": "execute_result"
    }
   ],
   "execution_count": 11
  },
  {
   "metadata": {
    "ExecuteTime": {
     "end_time": "2025-07-05T07:28:24.309321Z",
     "start_time": "2025-07-05T07:28:24.307188Z"
    }
   },
   "cell_type": "code",
   "source": "obj2['a']",
   "id": "912be226b0f22055",
   "outputs": [
    {
     "data": {
      "text/plain": [
       "np.int64(-5)"
      ]
     },
     "execution_count": 15,
     "metadata": {},
     "output_type": "execute_result"
    }
   ],
   "execution_count": 15
  },
  {
   "metadata": {
    "ExecuteTime": {
     "end_time": "2025-07-05T07:28:43.529400Z",
     "start_time": "2025-07-05T07:28:43.527325Z"
    }
   },
   "cell_type": "code",
   "source": "obj2.values",
   "id": "48c792a6cf51f4d1",
   "outputs": [
    {
     "data": {
      "text/plain": [
       "array([ 4,  7, -5,  3])"
      ]
     },
     "execution_count": 16,
     "metadata": {},
     "output_type": "execute_result"
    }
   ],
   "execution_count": 16
  },
  {
   "metadata": {
    "ExecuteTime": {
     "end_time": "2025-07-05T07:29:32.456106Z",
     "start_time": "2025-07-05T07:29:32.453543Z"
    }
   },
   "cell_type": "code",
   "source": "obj2[obj2 > 0]",
   "id": "e365fa5b148ebc61",
   "outputs": [
    {
     "data": {
      "text/plain": [
       "d    4\n",
       "b    7\n",
       "c    3\n",
       "dtype: int64"
      ]
     },
     "execution_count": 17,
     "metadata": {},
     "output_type": "execute_result"
    }
   ],
   "execution_count": 17
  },
  {
   "metadata": {
    "ExecuteTime": {
     "end_time": "2025-07-05T07:30:03.403713Z",
     "start_time": "2025-07-05T07:30:03.400855Z"
    }
   },
   "cell_type": "code",
   "source": "obj2 * 2",
   "id": "2b859dd3d99c8e5b",
   "outputs": [
    {
     "data": {
      "text/plain": [
       "d     8\n",
       "b    14\n",
       "a   -10\n",
       "c     6\n",
       "dtype: int64"
      ]
     },
     "execution_count": 18,
     "metadata": {},
     "output_type": "execute_result"
    }
   ],
   "execution_count": 18
  },
  {
   "metadata": {
    "ExecuteTime": {
     "end_time": "2025-07-05T07:30:44.737348Z",
     "start_time": "2025-07-05T07:30:44.732151Z"
    }
   },
   "cell_type": "code",
   "source": "np.exp(obj)",
   "id": "c3d742205ab3bd5d",
   "outputs": [
    {
     "data": {
      "text/plain": [
       "0      54.598150\n",
       "1    1096.633158\n",
       "2       0.006738\n",
       "3      20.085537\n",
       "dtype: float64"
      ]
     },
     "execution_count": 21,
     "metadata": {},
     "output_type": "execute_result"
    }
   ],
   "execution_count": 21
  },
  {
   "metadata": {
    "ExecuteTime": {
     "end_time": "2025-07-05T07:32:47.212234Z",
     "start_time": "2025-07-05T07:32:47.210533Z"
    }
   },
   "cell_type": "code",
   "source": "sdata = {'Ohio': 35000, 'Texas': 71000, 'Oregon': 16000, 'Utah': 5000}",
   "id": "d28ec6e49a25b39a",
   "outputs": [],
   "execution_count": 22
  },
  {
   "metadata": {
    "ExecuteTime": {
     "end_time": "2025-07-05T07:32:56.050784Z",
     "start_time": "2025-07-05T07:32:56.048972Z"
    }
   },
   "cell_type": "code",
   "source": "obj3 = pd.Series(sdata)",
   "id": "dd140591f66c23a0",
   "outputs": [],
   "execution_count": 23
  },
  {
   "metadata": {
    "ExecuteTime": {
     "end_time": "2025-07-05T07:32:58.658763Z",
     "start_time": "2025-07-05T07:32:58.655525Z"
    }
   },
   "cell_type": "code",
   "source": "obj3",
   "id": "39b93966065bf6f9",
   "outputs": [
    {
     "data": {
      "text/plain": [
       "Ohio      35000\n",
       "Texas     71000\n",
       "Oregon    16000\n",
       "Utah       5000\n",
       "dtype: int64"
      ]
     },
     "execution_count": 24,
     "metadata": {},
     "output_type": "execute_result"
    }
   ],
   "execution_count": 24
  },
  {
   "metadata": {
    "ExecuteTime": {
     "end_time": "2025-07-05T07:33:46.169452Z",
     "start_time": "2025-07-05T07:33:46.166904Z"
    }
   },
   "cell_type": "code",
   "source": "states = ['California', 'Ohio', 'Oregon', 'Texas']",
   "id": "622d57687ec59f81",
   "outputs": [],
   "execution_count": 25
  },
  {
   "metadata": {
    "ExecuteTime": {
     "end_time": "2025-07-05T07:34:08.334609Z",
     "start_time": "2025-07-05T07:34:08.332342Z"
    }
   },
   "cell_type": "code",
   "source": "obj4 = pd.Series(sdata, index=states)",
   "id": "e1d6ae28a5d5cf68",
   "outputs": [],
   "execution_count": 26
  },
  {
   "metadata": {
    "ExecuteTime": {
     "end_time": "2025-07-05T07:34:11.308755Z",
     "start_time": "2025-07-05T07:34:11.305843Z"
    }
   },
   "cell_type": "code",
   "source": "obj4",
   "id": "c9de0153a921ce99",
   "outputs": [
    {
     "data": {
      "text/plain": [
       "California        NaN\n",
       "Ohio          35000.0\n",
       "Oregon        16000.0\n",
       "Texas         71000.0\n",
       "dtype: float64"
      ]
     },
     "execution_count": 27,
     "metadata": {},
     "output_type": "execute_result"
    }
   ],
   "execution_count": 27
  },
  {
   "metadata": {
    "ExecuteTime": {
     "end_time": "2025-07-05T07:35:09.546634Z",
     "start_time": "2025-07-05T07:35:09.543651Z"
    }
   },
   "cell_type": "code",
   "source": "pd.isnull(obj4)",
   "id": "ba2114c24d5d502",
   "outputs": [
    {
     "data": {
      "text/plain": [
       "California     True\n",
       "Ohio          False\n",
       "Oregon        False\n",
       "Texas         False\n",
       "dtype: bool"
      ]
     },
     "execution_count": 28,
     "metadata": {},
     "output_type": "execute_result"
    }
   ],
   "execution_count": 28
  },
  {
   "metadata": {
    "ExecuteTime": {
     "end_time": "2025-07-05T07:35:34.993555Z",
     "start_time": "2025-07-05T07:35:34.990959Z"
    }
   },
   "cell_type": "code",
   "source": "obj3",
   "id": "1084943d17a94579",
   "outputs": [
    {
     "data": {
      "text/plain": [
       "Ohio      35000\n",
       "Texas     71000\n",
       "Oregon    16000\n",
       "Utah       5000\n",
       "dtype: int64"
      ]
     },
     "execution_count": 29,
     "metadata": {},
     "output_type": "execute_result"
    }
   ],
   "execution_count": 29
  },
  {
   "metadata": {
    "ExecuteTime": {
     "end_time": "2025-07-05T07:35:50.494533Z",
     "start_time": "2025-07-05T07:35:50.491949Z"
    }
   },
   "cell_type": "code",
   "source": "obj4",
   "id": "7ed877d6542e7999",
   "outputs": [
    {
     "data": {
      "text/plain": [
       "California        NaN\n",
       "Ohio          35000.0\n",
       "Oregon        16000.0\n",
       "Texas         71000.0\n",
       "dtype: float64"
      ]
     },
     "execution_count": 30,
     "metadata": {},
     "output_type": "execute_result"
    }
   ],
   "execution_count": 30
  },
  {
   "metadata": {
    "ExecuteTime": {
     "end_time": "2025-07-05T07:35:59.768017Z",
     "start_time": "2025-07-05T07:35:59.764998Z"
    }
   },
   "cell_type": "code",
   "source": "obj3 + obj4",
   "id": "b1e9ef9c5671c7f7",
   "outputs": [
    {
     "data": {
      "text/plain": [
       "California         NaN\n",
       "Ohio           70000.0\n",
       "Oregon         32000.0\n",
       "Texas         142000.0\n",
       "Utah               NaN\n",
       "dtype: float64"
      ]
     },
     "execution_count": 31,
     "metadata": {},
     "output_type": "execute_result"
    }
   ],
   "execution_count": 31
  },
  {
   "metadata": {
    "ExecuteTime": {
     "end_time": "2025-07-05T07:37:06.510584Z",
     "start_time": "2025-07-05T07:37:06.509015Z"
    }
   },
   "cell_type": "code",
   "source": "obj4.name = 'population'",
   "id": "be728ab1e6f24101",
   "outputs": [],
   "execution_count": 32
  },
  {
   "metadata": {
    "ExecuteTime": {
     "end_time": "2025-07-05T07:37:11.105765Z",
     "start_time": "2025-07-05T07:37:11.104189Z"
    }
   },
   "cell_type": "code",
   "source": "obj4.index.name = 'state'",
   "id": "871a4e65655f12f6",
   "outputs": [],
   "execution_count": 33
  },
  {
   "metadata": {
    "ExecuteTime": {
     "end_time": "2025-07-05T07:37:13.588089Z",
     "start_time": "2025-07-05T07:37:13.585519Z"
    }
   },
   "cell_type": "code",
   "source": "obj4",
   "id": "bf9595e4f1da8483",
   "outputs": [
    {
     "data": {
      "text/plain": [
       "state\n",
       "California        NaN\n",
       "Ohio          35000.0\n",
       "Oregon        16000.0\n",
       "Texas         71000.0\n",
       "Name: population, dtype: float64"
      ]
     },
     "execution_count": 34,
     "metadata": {},
     "output_type": "execute_result"
    }
   ],
   "execution_count": 34
  },
  {
   "metadata": {
    "ExecuteTime": {
     "end_time": "2025-07-05T07:37:45.414936Z",
     "start_time": "2025-07-05T07:37:45.412519Z"
    }
   },
   "cell_type": "code",
   "source": "obj",
   "id": "f32d00c1b93ad531",
   "outputs": [
    {
     "data": {
      "text/plain": [
       "0    4\n",
       "1    7\n",
       "2   -5\n",
       "3    3\n",
       "dtype: int64"
      ]
     },
     "execution_count": 35,
     "metadata": {},
     "output_type": "execute_result"
    }
   ],
   "execution_count": 35
  },
  {
   "metadata": {
    "ExecuteTime": {
     "end_time": "2025-07-05T07:37:58.793130Z",
     "start_time": "2025-07-05T07:37:58.791282Z"
    }
   },
   "cell_type": "code",
   "source": "obj.index = ['Bob', 'Steve', 'Jeff', 'Ryan']",
   "id": "77c368cae4abf25b",
   "outputs": [],
   "execution_count": 36
  },
  {
   "metadata": {
    "ExecuteTime": {
     "end_time": "2025-07-05T07:38:00.259764Z",
     "start_time": "2025-07-05T07:38:00.257218Z"
    }
   },
   "cell_type": "code",
   "source": "obj",
   "id": "a2d0c484fb6d58e9",
   "outputs": [
    {
     "data": {
      "text/plain": [
       "Bob      4\n",
       "Steve    7\n",
       "Jeff    -5\n",
       "Ryan     3\n",
       "dtype: int64"
      ]
     },
     "execution_count": 37,
     "metadata": {},
     "output_type": "execute_result"
    }
   ],
   "execution_count": 37
  },
  {
   "metadata": {
    "ExecuteTime": {
     "end_time": "2025-07-05T07:40:16.984903Z",
     "start_time": "2025-07-05T07:40:16.982250Z"
    }
   },
   "cell_type": "code",
   "source": [
    "data = {'state': ['Ohio', 'Ohio', 'Ohio', 'Nevada', 'Nevada'],\n",
    "        'year': [2000, 2001, 2002, 2001, 2002],\n",
    "        'pop': [1.5, 1.7, 3.6, 2.4, 2.9]}\n",
    "frame = pd.DataFrame(data)"
   ],
   "id": "44ae5bc545d48676",
   "outputs": [],
   "execution_count": 38
  },
  {
   "metadata": {
    "ExecuteTime": {
     "end_time": "2025-07-05T07:40:19.202531Z",
     "start_time": "2025-07-05T07:40:19.199273Z"
    }
   },
   "cell_type": "code",
   "source": "frame",
   "id": "edc9cb37325d137d",
   "outputs": [
    {
     "data": {
      "text/plain": [
       "    state  year  pop\n",
       "0    Ohio  2000  1.5\n",
       "1    Ohio  2001  1.7\n",
       "2    Ohio  2002  3.6\n",
       "3  Nevada  2001  2.4\n",
       "4  Nevada  2002  2.9"
      ],
      "text/html": [
       "<div>\n",
       "<style scoped>\n",
       "    .dataframe tbody tr th:only-of-type {\n",
       "        vertical-align: middle;\n",
       "    }\n",
       "\n",
       "    .dataframe tbody tr th {\n",
       "        vertical-align: top;\n",
       "    }\n",
       "\n",
       "    .dataframe thead th {\n",
       "        text-align: right;\n",
       "    }\n",
       "</style>\n",
       "<table border=\"1\" class=\"dataframe\">\n",
       "  <thead>\n",
       "    <tr style=\"text-align: right;\">\n",
       "      <th></th>\n",
       "      <th>state</th>\n",
       "      <th>year</th>\n",
       "      <th>pop</th>\n",
       "    </tr>\n",
       "  </thead>\n",
       "  <tbody>\n",
       "    <tr>\n",
       "      <th>0</th>\n",
       "      <td>Ohio</td>\n",
       "      <td>2000</td>\n",
       "      <td>1.5</td>\n",
       "    </tr>\n",
       "    <tr>\n",
       "      <th>1</th>\n",
       "      <td>Ohio</td>\n",
       "      <td>2001</td>\n",
       "      <td>1.7</td>\n",
       "    </tr>\n",
       "    <tr>\n",
       "      <th>2</th>\n",
       "      <td>Ohio</td>\n",
       "      <td>2002</td>\n",
       "      <td>3.6</td>\n",
       "    </tr>\n",
       "    <tr>\n",
       "      <th>3</th>\n",
       "      <td>Nevada</td>\n",
       "      <td>2001</td>\n",
       "      <td>2.4</td>\n",
       "    </tr>\n",
       "    <tr>\n",
       "      <th>4</th>\n",
       "      <td>Nevada</td>\n",
       "      <td>2002</td>\n",
       "      <td>2.9</td>\n",
       "    </tr>\n",
       "  </tbody>\n",
       "</table>\n",
       "</div>"
      ]
     },
     "execution_count": 39,
     "metadata": {},
     "output_type": "execute_result"
    }
   ],
   "execution_count": 39
  },
  {
   "metadata": {
    "ExecuteTime": {
     "end_time": "2025-07-05T07:40:52.474548Z",
     "start_time": "2025-07-05T07:40:52.471373Z"
    }
   },
   "cell_type": "code",
   "source": "frame.head()",
   "id": "d31fbcac6bbd5e3d",
   "outputs": [
    {
     "data": {
      "text/plain": [
       "    state  year  pop\n",
       "0    Ohio  2000  1.5\n",
       "1    Ohio  2001  1.7\n",
       "2    Ohio  2002  3.6\n",
       "3  Nevada  2001  2.4\n",
       "4  Nevada  2002  2.9"
      ],
      "text/html": [
       "<div>\n",
       "<style scoped>\n",
       "    .dataframe tbody tr th:only-of-type {\n",
       "        vertical-align: middle;\n",
       "    }\n",
       "\n",
       "    .dataframe tbody tr th {\n",
       "        vertical-align: top;\n",
       "    }\n",
       "\n",
       "    .dataframe thead th {\n",
       "        text-align: right;\n",
       "    }\n",
       "</style>\n",
       "<table border=\"1\" class=\"dataframe\">\n",
       "  <thead>\n",
       "    <tr style=\"text-align: right;\">\n",
       "      <th></th>\n",
       "      <th>state</th>\n",
       "      <th>year</th>\n",
       "      <th>pop</th>\n",
       "    </tr>\n",
       "  </thead>\n",
       "  <tbody>\n",
       "    <tr>\n",
       "      <th>0</th>\n",
       "      <td>Ohio</td>\n",
       "      <td>2000</td>\n",
       "      <td>1.5</td>\n",
       "    </tr>\n",
       "    <tr>\n",
       "      <th>1</th>\n",
       "      <td>Ohio</td>\n",
       "      <td>2001</td>\n",
       "      <td>1.7</td>\n",
       "    </tr>\n",
       "    <tr>\n",
       "      <th>2</th>\n",
       "      <td>Ohio</td>\n",
       "      <td>2002</td>\n",
       "      <td>3.6</td>\n",
       "    </tr>\n",
       "    <tr>\n",
       "      <th>3</th>\n",
       "      <td>Nevada</td>\n",
       "      <td>2001</td>\n",
       "      <td>2.4</td>\n",
       "    </tr>\n",
       "    <tr>\n",
       "      <th>4</th>\n",
       "      <td>Nevada</td>\n",
       "      <td>2002</td>\n",
       "      <td>2.9</td>\n",
       "    </tr>\n",
       "  </tbody>\n",
       "</table>\n",
       "</div>"
      ]
     },
     "execution_count": 40,
     "metadata": {},
     "output_type": "execute_result"
    }
   ],
   "execution_count": 40
  },
  {
   "metadata": {},
   "cell_type": "code",
   "outputs": [],
   "execution_count": null,
   "source": "",
   "id": "76ae2bf9deb29312"
  }
 ],
 "metadata": {
  "kernelspec": {
   "display_name": "Python 3",
   "language": "python",
   "name": "python3"
  },
  "language_info": {
   "codemirror_mode": {
    "name": "ipython",
    "version": 2
   },
   "file_extension": ".py",
   "mimetype": "text/x-python",
   "name": "python",
   "nbconvert_exporter": "python",
   "pygments_lexer": "ipython2",
   "version": "2.7.6"
  }
 },
 "nbformat": 4,
 "nbformat_minor": 5
}
